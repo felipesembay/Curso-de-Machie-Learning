{
 "cells": [
  {
   "cell_type": "code",
   "execution_count": 1,
   "metadata": {
    "colab": {},
    "colab_type": "code",
    "id": "wFiEg7SWwRMI"
   },
   "outputs": [],
   "source": [
    "import os\n",
    "import re\n",
    "import numpy as np\n",
    "import pandas as pd\n",
    "import warnings\n",
    "warnings.filterwarnings(\"ignore\")"
   ]
  },
  {
   "cell_type": "markdown",
   "metadata": {},
   "source": [
    "### Persistindo o modelo de Machine Learning para o disco. ###"
   ]
  },
  {
   "cell_type": "code",
   "execution_count": 2,
   "metadata": {},
   "outputs": [],
   "source": [
    "import joblib"
   ]
  },
  {
   "cell_type": "markdown",
   "metadata": {
    "colab_type": "text",
    "id": "mNIV4VAxwRNp"
   },
   "source": [
    "#### Listando os arquivos em disco."
   ]
  },
  {
   "cell_type": "code",
   "execution_count": 3,
   "metadata": {},
   "outputs": [],
   "source": [
    "caminho_pickle = \"/home/felipe/Projeto/Loan_Approval/Arquivos_pickle/model3_hiperparameters.pkl\""
   ]
  },
  {
   "cell_type": "code",
   "execution_count": 4,
   "metadata": {},
   "outputs": [
    {
     "data": {
      "text/plain": [
       "'/home/felipe/Projeto/Loan_Approval/Arquivos_pickle/model3_hiperparameters.pkl'"
      ]
     },
     "execution_count": 4,
     "metadata": {},
     "output_type": "execute_result"
    }
   ],
   "source": [
    "caminho_pickle "
   ]
  },
  {
   "cell_type": "markdown",
   "metadata": {
    "colab_type": "text",
    "id": "mNIV4VAxwRNp"
   },
   "source": [
    "#### Carregando o modelo a partir do disco para a memória."
   ]
  },
  {
   "cell_type": "code",
   "execution_count": 5,
   "metadata": {},
   "outputs": [],
   "source": [
    "# Carregar o modelo a partir do arquivo pickle usando joblib\n",
    "modelo = joblib.load(caminho_pickle)\n",
    "\n",
    "#print(\"Atributos do Modelo:\\n\\nClasses:{}\\nEstimator:{}\".format(modelo.classes_,modelo.estimator))\n",
    "\n",
    "# Exibir os atributos do modelo\n",
    "#print(\"Atributos do Modelo:\\n\")\n",
    "#print(f\"Number of estimators: {modelo.n_estimators}\")\n",
    "#print(f\"Max depth: {modelo.max_depth}\")\n",
    "#print(f\"Min samples split: {modelo.min_samples_split}\")\n",
    "#print(f\"Min samples leaf: {modelo.min_samples_leaf}\")\n",
    "#print(f\"Classes: {modelo.classes_}\")\n"
   ]
  },
  {
   "cell_type": "code",
   "execution_count": 6,
   "metadata": {},
   "outputs": [
    {
     "name": "stdout",
     "output_type": "stream",
     "text": [
      "Steps do Pipeline:\n",
      " {'preprocessor': ColumnTransformer(transformers=[('num',\n",
      "                                 Pipeline(steps=[('imputer',\n",
      "                                                  SimpleImputer(strategy='median'))]),\n",
      "                                 Index(['Age', 'Married/Single', 'Experience', 'Profession', 'CURRENT_JOB_YRS',\n",
      "       'House_Ownership', 'Car_Ownership', 'CURRENT_HOUSE_YRS', 'income'],\n",
      "      dtype='object'))]), 'classifier': RandomForestClassifier(max_depth=32, n_estimators=11, random_state=42)}\n",
      "Atributos do Modelo Final:\n",
      "\n",
      "Classes:[0 1]\n",
      "Estimator:RandomForestClassifier(max_depth=32, n_estimators=11, random_state=42)\n"
     ]
    }
   ],
   "source": [
    "# Verificar os passos do pipeline, caso tenha usado pipeline\n",
    "print(\"Steps do Pipeline:\\n\", modelo.named_steps)\n",
    "\n",
    "# Acessar o estimador final no pipeline\n",
    "modelo_final = modelo.named_steps['classifier']\n",
    "\n",
    "# Visualizar os atributos do estimador final\n",
    "print(\"Atributos do Modelo Final:\\n\\nClasses:{}\\nEstimator:{}\".format(modelo_final.classes_, modelo_final))\n",
    "\n"
   ]
  },
  {
   "cell_type": "code",
   "execution_count": 8,
   "metadata": {},
   "outputs": [],
   "source": [
    "# Suponha que o seu DataFrame tenha essas colunas (sem a coluna alvo)\n",
    "df = pd.DataFrame({\n",
    "    'Age': [25, 35, 45, 55, 65],\n",
    "    'Married/Single': [1, 1, 0, 0 , 1],\n",
    "    'Experience': [1, 10, 20, 30, 40],\n",
    "    'Profession': [10, 16, 36, 44, 9],\n",
    "    'CURRENT_JOB_YRS': [1, 5, 10, 15, 20],\n",
    "    'House_Ownership': [0,1,1,2,2],\n",
    "    'Car_Ownership': [0,1,1,0,1],\n",
    "    'CURRENT_HOUSE_YRS': [1, 2, 3, 4, 5],\n",
    "    'income': [30000, 50000, 70000, 90000, 110000]})"
   ]
  },
  {
   "cell_type": "code",
   "execution_count": 9,
   "metadata": {},
   "outputs": [
    {
     "data": {
      "text/html": [
       "<div>\n",
       "<style scoped>\n",
       "    .dataframe tbody tr th:only-of-type {\n",
       "        vertical-align: middle;\n",
       "    }\n",
       "\n",
       "    .dataframe tbody tr th {\n",
       "        vertical-align: top;\n",
       "    }\n",
       "\n",
       "    .dataframe thead th {\n",
       "        text-align: right;\n",
       "    }\n",
       "</style>\n",
       "<table border=\"1\" class=\"dataframe\">\n",
       "  <thead>\n",
       "    <tr style=\"text-align: right;\">\n",
       "      <th></th>\n",
       "      <th>Age</th>\n",
       "      <th>Married/Single</th>\n",
       "      <th>Experience</th>\n",
       "      <th>Profession</th>\n",
       "      <th>CURRENT_JOB_YRS</th>\n",
       "      <th>House_Ownership</th>\n",
       "      <th>Car_Ownership</th>\n",
       "      <th>CURRENT_HOUSE_YRS</th>\n",
       "      <th>income</th>\n",
       "    </tr>\n",
       "  </thead>\n",
       "  <tbody>\n",
       "    <tr>\n",
       "      <th>0</th>\n",
       "      <td>25</td>\n",
       "      <td>1</td>\n",
       "      <td>1</td>\n",
       "      <td>10</td>\n",
       "      <td>1</td>\n",
       "      <td>0</td>\n",
       "      <td>0</td>\n",
       "      <td>1</td>\n",
       "      <td>30000</td>\n",
       "    </tr>\n",
       "    <tr>\n",
       "      <th>1</th>\n",
       "      <td>35</td>\n",
       "      <td>1</td>\n",
       "      <td>10</td>\n",
       "      <td>16</td>\n",
       "      <td>5</td>\n",
       "      <td>1</td>\n",
       "      <td>1</td>\n",
       "      <td>2</td>\n",
       "      <td>50000</td>\n",
       "    </tr>\n",
       "    <tr>\n",
       "      <th>2</th>\n",
       "      <td>45</td>\n",
       "      <td>0</td>\n",
       "      <td>20</td>\n",
       "      <td>36</td>\n",
       "      <td>10</td>\n",
       "      <td>1</td>\n",
       "      <td>1</td>\n",
       "      <td>3</td>\n",
       "      <td>70000</td>\n",
       "    </tr>\n",
       "    <tr>\n",
       "      <th>3</th>\n",
       "      <td>55</td>\n",
       "      <td>0</td>\n",
       "      <td>30</td>\n",
       "      <td>44</td>\n",
       "      <td>15</td>\n",
       "      <td>2</td>\n",
       "      <td>0</td>\n",
       "      <td>4</td>\n",
       "      <td>90000</td>\n",
       "    </tr>\n",
       "    <tr>\n",
       "      <th>4</th>\n",
       "      <td>65</td>\n",
       "      <td>1</td>\n",
       "      <td>40</td>\n",
       "      <td>9</td>\n",
       "      <td>20</td>\n",
       "      <td>2</td>\n",
       "      <td>1</td>\n",
       "      <td>5</td>\n",
       "      <td>110000</td>\n",
       "    </tr>\n",
       "  </tbody>\n",
       "</table>\n",
       "</div>"
      ],
      "text/plain": [
       "   Age  Married/Single  Experience  Profession  CURRENT_JOB_YRS  \\\n",
       "0   25               1           1          10                1   \n",
       "1   35               1          10          16                5   \n",
       "2   45               0          20          36               10   \n",
       "3   55               0          30          44               15   \n",
       "4   65               1          40           9               20   \n",
       "\n",
       "   House_Ownership  Car_Ownership  CURRENT_HOUSE_YRS  income  \n",
       "0                0              0                  1   30000  \n",
       "1                1              1                  2   50000  \n",
       "2                1              1                  3   70000  \n",
       "3                2              0                  4   90000  \n",
       "4                2              1                  5  110000  "
      ]
     },
     "execution_count": 9,
     "metadata": {},
     "output_type": "execute_result"
    }
   ],
   "source": [
    "df"
   ]
  },
  {
   "cell_type": "code",
   "execution_count": 10,
   "metadata": {},
   "outputs": [
    {
     "data": {
      "text/plain": [
       "array([0, 0, 0, 0, 0])"
      ]
     },
     "execution_count": 10,
     "metadata": {},
     "output_type": "execute_result"
    }
   ],
   "source": [
    "# Fazer previsões\n",
    "previsoes = modelo.predict(df)\n",
    "previsoes"
   ]
  },
  {
   "cell_type": "code",
   "execution_count": 11,
   "metadata": {},
   "outputs": [
    {
     "data": {
      "text/plain": [
       "array([[0.54545455, 0.45454545],\n",
       "       [0.72727273, 0.27272727],\n",
       "       [0.57024793, 0.42975207],\n",
       "       [0.68831169, 0.31168831],\n",
       "       [0.54545455, 0.45454545]])"
      ]
     },
     "execution_count": 11,
     "metadata": {},
     "output_type": "execute_result"
    }
   ],
   "source": [
    "modelo.predict_proba(df)"
   ]
  },
  {
   "cell_type": "code",
   "execution_count": 20,
   "metadata": {},
   "outputs": [
    {
     "data": {
      "text/html": [
       "<div>\n",
       "<style scoped>\n",
       "    .dataframe tbody tr th:only-of-type {\n",
       "        vertical-align: middle;\n",
       "    }\n",
       "\n",
       "    .dataframe tbody tr th {\n",
       "        vertical-align: top;\n",
       "    }\n",
       "\n",
       "    .dataframe thead th {\n",
       "        text-align: right;\n",
       "    }\n",
       "</style>\n",
       "<table border=\"1\" class=\"dataframe\">\n",
       "  <thead>\n",
       "    <tr style=\"text-align: right;\">\n",
       "      <th></th>\n",
       "      <th>Age</th>\n",
       "      <th>Experience</th>\n",
       "      <th>CURRENT_JOB_YRS</th>\n",
       "      <th>CURRENT_HOUSE_YRS</th>\n",
       "      <th>income</th>\n",
       "      <th>Married/Single</th>\n",
       "      <th>Profession</th>\n",
       "      <th>House_Ownership</th>\n",
       "      <th>Car_Ownership</th>\n",
       "    </tr>\n",
       "  </thead>\n",
       "  <tbody>\n",
       "    <tr>\n",
       "      <th>0</th>\n",
       "      <td>25</td>\n",
       "      <td>1</td>\n",
       "      <td>1</td>\n",
       "      <td>1</td>\n",
       "      <td>30000</td>\n",
       "      <td>1</td>\n",
       "      <td>2</td>\n",
       "      <td>1</td>\n",
       "      <td>0</td>\n",
       "    </tr>\n",
       "    <tr>\n",
       "      <th>1</th>\n",
       "      <td>35</td>\n",
       "      <td>10</td>\n",
       "      <td>5</td>\n",
       "      <td>2</td>\n",
       "      <td>50000</td>\n",
       "      <td>0</td>\n",
       "      <td>1</td>\n",
       "      <td>0</td>\n",
       "      <td>1</td>\n",
       "    </tr>\n",
       "  </tbody>\n",
       "</table>\n",
       "</div>"
      ],
      "text/plain": [
       "   Age  Experience  CURRENT_JOB_YRS  CURRENT_HOUSE_YRS  income  \\\n",
       "0   25           1                1                  1   30000   \n",
       "1   35          10                5                  2   50000   \n",
       "\n",
       "   Married/Single  Profession  House_Ownership  Car_Ownership  \n",
       "0               1           2                1              0  \n",
       "1               0           1                0              1  "
      ]
     },
     "execution_count": 20,
     "metadata": {},
     "output_type": "execute_result"
    }
   ],
   "source": [
    "df.head(2)"
   ]
  },
  {
   "cell_type": "markdown",
   "metadata": {},
   "source": [
    "**Verificando o Dataset final gerado.**"
   ]
  },
  {
   "cell_type": "code",
   "execution_count": 39,
   "metadata": {},
   "outputs": [],
   "source": [
    "teste = np.array([[30,8,3,3,5000,0,22,1,1]])"
   ]
  },
  {
   "cell_type": "markdown",
   "metadata": {},
   "source": [
    "**Teste de Classificação.**"
   ]
  },
  {
   "cell_type": "code",
   "execution_count": 40,
   "metadata": {
    "colab": {},
    "colab_type": "code",
    "id": "gqSqR2howRN0",
    "outputId": "5ce0fdab-f672-453a-8c37-783dfcbaa9e0"
   },
   "outputs": [
    {
     "data": {
      "text/plain": [
       "array([0])"
      ]
     },
     "execution_count": 40,
     "metadata": {},
     "output_type": "execute_result"
    }
   ],
   "source": [
    "modelo.predict(teste)"
   ]
  },
  {
   "cell_type": "markdown",
   "metadata": {},
   "source": [
    "**Probabilidades de Classes.**"
   ]
  },
  {
   "cell_type": "code",
   "execution_count": 41,
   "metadata": {},
   "outputs": [
    {
     "data": {
      "text/plain": [
       "array([[0.60822511, 0.39177489]])"
      ]
     },
     "execution_count": 41,
     "metadata": {},
     "output_type": "execute_result"
    }
   ],
   "source": [
    "modelo.predict_proba(teste)"
   ]
  },
  {
   "cell_type": "code",
   "execution_count": null,
   "metadata": {},
   "outputs": [],
   "source": []
  }
 ],
 "metadata": {
  "colab": {
   "name": "loan.ipynb",
   "provenance": [],
   "version": "0.3.2"
  },
  "kernelspec": {
   "display_name": "Python 3",
   "language": "python",
   "name": "python3"
  },
  "language_info": {
   "codemirror_mode": {
    "name": "ipython",
    "version": 3
   },
   "file_extension": ".py",
   "mimetype": "text/x-python",
   "name": "python",
   "nbconvert_exporter": "python",
   "pygments_lexer": "ipython3",
   "version": "3.8.8"
  }
 },
 "nbformat": 4,
 "nbformat_minor": 4
}
