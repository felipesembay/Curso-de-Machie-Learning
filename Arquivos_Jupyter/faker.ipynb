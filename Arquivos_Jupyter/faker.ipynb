{
 "cells": [
  {
   "cell_type": "code",
   "execution_count": 2,
   "metadata": {},
   "outputs": [],
   "source": [
    "import pandas as pd\n",
    "from faker import Faker\n",
    "import random\n",
    "\n",
    "# Instanciar o Faker\n",
    "fake = Faker()"
   ]
  },
  {
   "cell_type": "code",
   "execution_count": 4,
   "metadata": {},
   "outputs": [],
   "source": [
    "# Dicionário para mapeamento de profissões e seus códigos\n",
    "profession_mapping = {\n",
    "    \"Physician\": 37,\n",
    "    \"Statistician\": 44,\n",
    "    \"Web_designer\": 50,\n",
    "    \"Psychologist\": 40,\n",
    "    \"Computer_hardware_engineer\": 13,\n",
    "    \"Drafter\": 19,\n",
    "    \"Magistrate\": 32,\n",
    "    \"Fashion_Designer\": 22,\n",
    "    \"Air_traffic_controller\": 0,\n",
    "    \"Comedian\": 12,\n",
    "    \"Industrial_Engineer\": 29,\n",
    "    \"Mechanical_engineer\": 33,\n",
    "    \"Chemical_engineer\": 9,\n",
    "    \"Technical_writer\": 47,\n",
    "    \"Hotel_Manager\": 28,\n",
    "    \"Financial_Analyst\": 23,\n",
    "    \"Graphic_Designer\": 27,\n",
    "    \"Flight_attendant\": 25,\n",
    "    \"Biomedical_Engineer\": 6,\n",
    "    \"Secretary\": 42,\n",
    "    \"Software_Developer\": 43,\n",
    "    \"Petroleum_Engineer\": 36,\n",
    "    \"Police_officer\": 38,\n",
    "    \"Computer_operator\": 14,\n",
    "    \"Politician\": 39,\n",
    "    \"Microbiologist\": 34,\n",
    "    \"Technician\": 48,\n",
    "    \"Artist\": 4,\n",
    "    \"Lawyer\": 30,\n",
    "    \"Consultant\": 15,\n",
    "    \"Dentist\": 16,\n",
    "    \"Scientist\": 41,\n",
    "    \"Surgeon\": 45,\n",
    "    \"Aviator\": 5,\n",
    "    \"Technology_specialist\": 49,\n",
    "    \"Design_Engineer\": 17,\n",
    "    \"Surveyor\": 46,\n",
    "    \"Geologist\": 26,\n",
    "    \"Analyst\": 1,\n",
    "    \"Army_officer\": 3,\n",
    "    \"Architect\": 2,\n",
    "    \"Chef\": 8,\n",
    "    \"Librarian\": 31,\n",
    "    \"Civil_engineer\": 10,\n",
    "    \"Designer\": 18,\n",
    "    \"Economist\": 20,\n",
    "    \"Firefighter\": 24,\n",
    "    \"Chartered_Accountant\": 7,\n",
    "    \"Civil_servant\": 11,\n",
    "    \"Official\": 35,\n",
    "    \"Engineer\": 21\n",
    "}\n",
    "\n",
    "# Lista de colunas\n",
    "columns = ['Name', 'Age', 'Married/Single', 'Experience', 'Profession', 'Current_Jobs_Yrs', \n",
    "           'House_Ownership', 'Car_Ownership', 'Current_House_Yrs', 'Income', 'City', 'State']\n",
    "\n",
    "# Função para gerar dados falsos\n",
    "def generate_fake_data(num_records):\n",
    "    data = []\n",
    "    for _ in range(num_records):\n",
    "        name = fake.name()\n",
    "        age = random.randint(18, 70)\n",
    "        married_single = random.choice([0, 1])\n",
    "        experience = random.randint(1, 50)\n",
    "        profession = random.choice(list(profession_mapping.values()))\n",
    "        current_jobs_yrs = random.randint(1, 20)\n",
    "        house_ownership = random.choice([0, 1, 2])\n",
    "        car_ownership = random.choice([0, 1])\n",
    "        current_house_yrs = random.randint(1, 30)\n",
    "        income = round(random.uniform(10000, 150000), 2)\n",
    "        city = fake.city()\n",
    "        state = fake.state()\n",
    "        data.append([name, age, married_single, experience, profession, current_jobs_yrs, \n",
    "                     house_ownership, car_ownership, current_house_yrs, income, city, state])\n",
    "    return pd.DataFrame(data, columns=columns)\n",
    "\n",
    "# Gerar 100 registros de dados falsos\n",
    "fake_data = generate_fake_data(400)\n"
   ]
  },
  {
   "cell_type": "code",
   "execution_count": 5,
   "metadata": {},
   "outputs": [
    {
     "name": "stdout",
     "output_type": "stream",
     "text": [
      "Dados falsos gerados e salvos em 'fake_data.csv'\n"
     ]
    }
   ],
   "source": [
    "# Salvar os dados falsos em um arquivo CSV\n",
    "fake_data.to_csv('/home/felipe/Projeto/Loan_Approval/Dados/fake_data.csv', index=False)\n",
    "print(\"Dados falsos gerados e salvos em 'fake_data.csv'\")"
   ]
  },
  {
   "cell_type": "code",
   "execution_count": null,
   "metadata": {},
   "outputs": [],
   "source": []
  }
 ],
 "metadata": {
  "kernelspec": {
   "display_name": "base",
   "language": "python",
   "name": "python3"
  },
  "language_info": {
   "codemirror_mode": {
    "name": "ipython",
    "version": 3
   },
   "file_extension": ".py",
   "mimetype": "text/x-python",
   "name": "python",
   "nbconvert_exporter": "python",
   "pygments_lexer": "ipython3",
   "version": "3.8.8"
  }
 },
 "nbformat": 4,
 "nbformat_minor": 2
}
